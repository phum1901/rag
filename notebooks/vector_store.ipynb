{
  "cells": [
    {
      "cell_type": "code",
      "execution_count": null,
      "metadata": {},
      "outputs": [],
      "source": [
        "from langchain_community.document_loaders import PyPDFLoader\n",
        "from langchain_text_splitters import RecursiveCharacterTextSplitter\n",
        "from dotenv import load_dotenv\n",
        "from src.retrieval import get_retriever\n",
        "\n",
        "load_dotenv()"
      ]
    },
    {
      "cell_type": "code",
      "execution_count": null,
      "metadata": {},
      "outputs": [],
      "source": [
        "file_path = [\n",
        "    \"https://arxiv.org/pdf/1706.03762.pdf\",\n",
        "    \"https://arxiv.org/pdf/1810.04805.pdf\",\n",
        "    \"https://arxiv.org/pdf/2010.11929.pdf\",\n",
        "    \"https://arxiv.org/pdf/2103.00020.pdf\",\n",
        "    \"https://arxiv.org/pdf/1910.02054.pdf\",\n",
        "    \"https://arxiv.org/pdf/2408.00724.pdf\",\n",
        "    \"https://arxiv.org/pdf/2302.13971.pdf\",\n",
        "]"
      ]
    },
    {
      "cell_type": "code",
      "execution_count": null,
      "metadata": {},
      "outputs": [],
      "source": [
        "text_splitter = RecursiveCharacterTextSplitter(\n",
        "    separators=[\"\\n\\n\", \"\\n\", \" \"],\n",
        "    chunk_size=1024,\n",
        "    chunk_overlap=32,\n",
        "    length_function=len,\n",
        "    is_separator_regex=False,\n",
        ")\n",
        "\n",
        "documents = []\n",
        "for fp in file_path:\n",
        "    documents.extend(PyPDFLoader(file_path=fp).load())\n",
        "\n",
        "documents = text_splitter.split_documents(documents)\n",
        "\n",
        "with get_retriever() as retriever:\n",
        "    retriever.add_documents(documents)"
      ]
    },
    {
      "cell_type": "code",
      "execution_count": null,
      "metadata": {},
      "outputs": [],
      "source": []
    }
  ],
  "metadata": {
    "kernelspec": {
      "display_name": ".venv",
      "language": "python",
      "name": "python3"
    },
    "language_info": {
      "codemirror_mode": {
        "name": "ipython",
        "version": 3
      },
      "file_extension": ".py",
      "mimetype": "text/x-python",
      "name": "python",
      "nbconvert_exporter": "python",
      "pygments_lexer": "ipython3",
      "version": "3.10.15"
    }
  },
  "nbformat": 4,
  "nbformat_minor": 2
}
